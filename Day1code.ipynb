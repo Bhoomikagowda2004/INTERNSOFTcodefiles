{
 "cells": [
  {
   "cell_type": "markdown",
   "id": "b1ad359d-ae51-400d-bc6b-0bb389a15daa",
   "metadata": {},
   "source": [
    "Basics of Python"
   ]
  },
  {
   "cell_type": "markdown",
   "id": "692f2983-328f-4c4b-ac7d-94cee72e6794",
   "metadata": {},
   "source": [
    "Fundamental types"
   ]
  },
  {
   "cell_type": "markdown",
   "id": "3f667502-c788-4419-8fac-1e49aedb81ee",
   "metadata": {},
   "source": [
    "Integers"
   ]
  },
  {
   "cell_type": "code",
   "execution_count": 4,
   "id": "3d7f304a-ea98-4c54-96bd-44584af3ba1f",
   "metadata": {},
   "outputs": [
    {
     "data": {
      "text/plain": [
       "int"
      ]
     },
     "execution_count": 4,
     "metadata": {},
     "output_type": "execute_result"
    }
   ],
   "source": [
    "#integers\n",
    "x=1\n",
    "type(x)"
   ]
  },
  {
   "cell_type": "markdown",
   "id": "eeb6244b-8008-40a2-890f-02ee4d3b2b40",
   "metadata": {},
   "source": [
    "Float"
   ]
  },
  {
   "cell_type": "code",
   "execution_count": 6,
   "id": "2ec9f85d-9446-4ccb-b427-a3a211688c08",
   "metadata": {},
   "outputs": [
    {
     "data": {
      "text/plain": [
       "float"
      ]
     },
     "execution_count": 6,
     "metadata": {},
     "output_type": "execute_result"
    }
   ],
   "source": [
    "#float\n",
    "x=1.0\n",
    "type(x)"
   ]
  },
  {
   "cell_type": "markdown",
   "id": "c15335ba-9d8c-4e93-988b-be8c8788e9f4",
   "metadata": {},
   "source": [
    "Boolean"
   ]
  },
  {
   "cell_type": "code",
   "execution_count": 8,
   "id": "25af7326-d165-4db8-8acc-3317de9e3f66",
   "metadata": {},
   "outputs": [
    {
     "data": {
      "text/plain": [
       "bool"
      ]
     },
     "execution_count": 8,
     "metadata": {},
     "output_type": "execute_result"
    }
   ],
   "source": [
    "#boolean\n",
    "b1=True\n",
    "b2=False\n",
    "\n",
    "type(b1)"
   ]
  },
  {
   "cell_type": "code",
   "execution_count": 9,
   "id": "5304fe15-b668-43d5-93ff-67528ef2f53d",
   "metadata": {},
   "outputs": [
    {
     "data": {
      "text/plain": [
       "str"
      ]
     },
     "execution_count": 9,
     "metadata": {},
     "output_type": "execute_result"
    }
   ],
   "source": [
    "#string\n",
    "name1='your name'\n",
    "type(name1)"
   ]
  },
  {
   "cell_type": "code",
   "execution_count": 10,
   "id": "012c5042-1d12-48df-bedb-35677ebb9067",
   "metadata": {},
   "outputs": [
    {
     "data": {
      "text/plain": [
       "complex"
      ]
     },
     "execution_count": 10,
     "metadata": {},
     "output_type": "execute_result"
    }
   ],
   "source": [
    "#complex\n",
    "x=1.0-2.0j\n",
    "type(x)"
   ]
  },
  {
   "cell_type": "code",
   "execution_count": 11,
   "id": "826cb461-96f9-4966-9018-6b19e05d93af",
   "metadata": {},
   "outputs": [
    {
     "name": "stdout",
     "output_type": "stream",
     "text": [
      "(1-2j)\n"
     ]
    }
   ],
   "source": [
    "print(x)"
   ]
  },
  {
   "cell_type": "code",
   "execution_count": 12,
   "id": "e6227195-e2ea-4659-84d1-8cc640cd4981",
   "metadata": {},
   "outputs": [
    {
     "name": "stdout",
     "output_type": "stream",
     "text": [
      "1.0 -2.0\n"
     ]
    }
   ],
   "source": [
    "print(x.real, x.imag)"
   ]
  },
  {
   "cell_type": "markdown",
   "id": "623f69a6-cf0a-497d-b4ba-e8ecd76a78f9",
   "metadata": {},
   "source": [
    "Variables"
   ]
  },
  {
   "cell_type": "code",
   "execution_count": 14,
   "id": "164ee51d-a08b-496b-8649-266efeeec2f1",
   "metadata": {},
   "outputs": [
    {
     "data": {
      "text/plain": [
       "2"
      ]
     },
     "execution_count": 14,
     "metadata": {},
     "output_type": "execute_result"
    }
   ],
   "source": [
    "tenth=10\n",
    "two=2\n",
    "tenth\n",
    "two"
   ]
  },
  {
   "cell_type": "code",
   "execution_count": 15,
   "id": "94c26645-4b0a-4951-95ab-040d7ef40035",
   "metadata": {},
   "outputs": [
    {
     "name": "stdout",
     "output_type": "stream",
     "text": [
      "10\n"
     ]
    },
    {
     "data": {
      "text/plain": [
       "2"
      ]
     },
     "execution_count": 15,
     "metadata": {},
     "output_type": "execute_result"
    }
   ],
   "source": [
    "tenth=10\n",
    "two=2\n",
    "print(tenth)\n",
    "two"
   ]
  },
  {
   "cell_type": "code",
   "execution_count": 16,
   "id": "e75c8f2e-95b1-4ad2-a14e-d80828fab191",
   "metadata": {},
   "outputs": [
    {
     "data": {
      "text/plain": [
       "10"
      ]
     },
     "execution_count": 16,
     "metadata": {},
     "output_type": "execute_result"
    }
   ],
   "source": [
    "ten=10\n",
    "ten"
   ]
  },
  {
   "cell_type": "code",
   "execution_count": 17,
   "id": "dd59a403-81b4-4a8f-b4ed-c36e8d497dfb",
   "metadata": {},
   "outputs": [
    {
     "data": {
      "text/plain": [
       "'ten'"
      ]
     },
     "execution_count": 17,
     "metadata": {},
     "output_type": "execute_result"
    }
   ],
   "source": [
    "ten='ten'\n",
    "ten"
   ]
  },
  {
   "cell_type": "code",
   "execution_count": 18,
   "id": "624853ab-60e1-49aa-a23f-aa9f145a0a6d",
   "metadata": {},
   "outputs": [
    {
     "data": {
      "text/plain": [
       "'Day1'"
      ]
     },
     "execution_count": 18,
     "metadata": {},
     "output_type": "execute_result"
    }
   ],
   "source": [
    "'Day'+ '1'"
   ]
  },
  {
   "cell_type": "code",
   "execution_count": 19,
   "id": "57f78155-81c2-4dff-9577-409dc9059a85",
   "metadata": {},
   "outputs": [
    {
     "data": {
      "text/plain": [
       "'Day1'"
      ]
     },
     "execution_count": 19,
     "metadata": {},
     "output_type": "execute_result"
    }
   ],
   "source": [
    "'Day'+str(1)"
   ]
  },
  {
   "cell_type": "markdown",
   "id": "39fe062c-3ba5-4348-a001-54ca72576580",
   "metadata": {},
   "source": [
    "Simple expression"
   ]
  },
  {
   "cell_type": "code",
   "execution_count": 21,
   "id": "1f2f2a6f-7d30-41e4-b1e2-266d91efa4f6",
   "metadata": {},
   "outputs": [
    {
     "data": {
      "text/plain": [
       "False"
      ]
     },
     "execution_count": 21,
     "metadata": {},
     "output_type": "execute_result"
    }
   ],
   "source": [
    "True and False"
   ]
  },
  {
   "cell_type": "code",
   "execution_count": 22,
   "id": "f0f51242-ed14-4a57-9dd6-89023a2f05c6",
   "metadata": {},
   "outputs": [
    {
     "data": {
      "text/plain": [
       "True"
      ]
     },
     "execution_count": 22,
     "metadata": {},
     "output_type": "execute_result"
    }
   ],
   "source": [
    "True or True"
   ]
  },
  {
   "cell_type": "code",
   "execution_count": 23,
   "id": "6158ae37-d214-411f-88f1-4e6e4f4895ee",
   "metadata": {},
   "outputs": [
    {
     "data": {
      "text/plain": [
       "False"
      ]
     },
     "execution_count": 23,
     "metadata": {},
     "output_type": "execute_result"
    }
   ],
   "source": [
    "True and False"
   ]
  },
  {
   "cell_type": "code",
   "execution_count": 24,
   "id": "2ecde5b7-d41c-4f08-86f4-61d16c76bed3",
   "metadata": {},
   "outputs": [
    {
     "data": {
      "text/plain": [
       "False"
      ]
     },
     "execution_count": 24,
     "metadata": {},
     "output_type": "execute_result"
    }
   ],
   "source": [
    "not True"
   ]
  },
  {
   "cell_type": "code",
   "execution_count": 25,
   "id": "3ee84378-c346-426c-92ea-2eaab6e5510d",
   "metadata": {},
   "outputs": [
    {
     "data": {
      "text/plain": [
       "True"
      ]
     },
     "execution_count": 25,
     "metadata": {},
     "output_type": "execute_result"
    }
   ],
   "source": [
    "not False"
   ]
  },
  {
   "cell_type": "code",
   "execution_count": 26,
   "id": "cf6ebf81-3b77-440a-b48a-6bc371cc849e",
   "metadata": {},
   "outputs": [
    {
     "data": {
      "text/plain": [
       "False"
      ]
     },
     "execution_count": 26,
     "metadata": {},
     "output_type": "execute_result"
    }
   ],
   "source": [
    "True is False"
   ]
  },
  {
   "cell_type": "code",
   "execution_count": 27,
   "id": "e52a63ea-6e1e-422b-9fc2-249107853b46",
   "metadata": {},
   "outputs": [
    {
     "data": {
      "text/plain": [
       "False"
      ]
     },
     "execution_count": 27,
     "metadata": {},
     "output_type": "execute_result"
    }
   ],
   "source": [
    "False is True"
   ]
  },
  {
   "cell_type": "markdown",
   "id": "52e1969e-f0a8-4355-b4a4-45bf398a9d08",
   "metadata": {},
   "source": [
    "Branching (if/elif/else)"
   ]
  },
  {
   "cell_type": "code",
   "execution_count": 30,
   "id": "baf81539-0cfe-4bfe-882c-6fce07543e23",
   "metadata": {},
   "outputs": [
    {
     "name": "stdout",
     "output_type": "stream",
     "text": [
      "less than 5\n"
     ]
    }
   ],
   "source": [
    "i = 3 \n",
    "if i < 3: \n",
    "    print('less than 3') \n",
    "elif i < 5: \n",
    "    print('less than 5') \n",
    "else:\n",
    "    print('5 or more')"
   ]
  },
  {
   "cell_type": "markdown",
   "id": "84e2d30f-5475-47f4-a7c1-fa933cc24112",
   "metadata": {},
   "source": [
    "Lists"
   ]
  },
  {
   "cell_type": "code",
   "execution_count": 32,
   "id": "07ba7d71-b324-476a-99c6-60c82b425cbd",
   "metadata": {},
   "outputs": [
    {
     "data": {
      "text/plain": [
       "[]"
      ]
     },
     "execution_count": 32,
     "metadata": {},
     "output_type": "execute_result"
    }
   ],
   "source": [
    "l=[]\n",
    "l"
   ]
  },
  {
   "cell_type": "code",
   "execution_count": 33,
   "id": "effe6283-e92a-43fa-952d-c24755b94d44",
   "metadata": {},
   "outputs": [
    {
     "data": {
      "text/plain": [
       "[]"
      ]
     },
     "execution_count": 33,
     "metadata": {},
     "output_type": "execute_result"
    }
   ],
   "source": [
    "l=list()\n",
    "l"
   ]
  },
  {
   "cell_type": "code",
   "execution_count": 34,
   "id": "24b837da-3a29-4880-a659-06504b6efae7",
   "metadata": {},
   "outputs": [
    {
     "data": {
      "text/plain": [
       "['a', 'b', 'c', 'd']"
      ]
     },
     "execution_count": 34,
     "metadata": {},
     "output_type": "execute_result"
    }
   ],
   "source": [
    "l=['a','b','c','d']\n",
    "l"
   ]
  },
  {
   "cell_type": "code",
   "execution_count": 35,
   "id": "4d1918af-b67b-465d-972a-fcfb9bd520b5",
   "metadata": {},
   "outputs": [
    {
     "data": {
      "text/plain": [
       "['a', 6]"
      ]
     },
     "execution_count": 35,
     "metadata": {},
     "output_type": "execute_result"
    }
   ],
   "source": [
    "l=['a',6]\n",
    "l"
   ]
  },
  {
   "cell_type": "code",
   "execution_count": 36,
   "id": "2a7cf8a7-26c5-46ba-be38-3ce711ca2fc4",
   "metadata": {},
   "outputs": [
    {
     "data": {
      "text/plain": [
       "['a', 6]"
      ]
     },
     "execution_count": 36,
     "metadata": {},
     "output_type": "execute_result"
    }
   ],
   "source": [
    "l2=list(l)\n",
    "l2"
   ]
  },
  {
   "cell_type": "code",
   "execution_count": 37,
   "id": "ec6ee170-aae4-4cd9-a36a-4d1bb4d9c4b7",
   "metadata": {},
   "outputs": [
    {
     "data": {
      "text/plain": [
       "['a', 'b', 'c', 'd', 'e', 'f']"
      ]
     },
     "execution_count": 37,
     "metadata": {},
     "output_type": "execute_result"
    }
   ],
   "source": [
    "list('abcdef')"
   ]
  },
  {
   "cell_type": "code",
   "execution_count": 38,
   "id": "7ebc3f99-8618-437e-8d3c-55d3c60517d9",
   "metadata": {},
   "outputs": [
    {
     "data": {
      "text/plain": [
       "['b', 56, 'c']"
      ]
     },
     "execution_count": 38,
     "metadata": {},
     "output_type": "execute_result"
    }
   ],
   "source": [
    "l=[]\n",
    "l.append('b')\n",
    "l.append('c')\n",
    "l.insert(1,56)\n",
    "l"
   ]
  },
  {
   "cell_type": "code",
   "execution_count": 39,
   "id": "61283ed6-756d-4325-94d8-0f35e63b967d",
   "metadata": {},
   "outputs": [
    {
     "name": "stdout",
     "output_type": "stream",
     "text": [
      "b\n",
      "56\n",
      "c\n"
     ]
    }
   ],
   "source": [
    "for pavan in l:\n",
    "    print(pavan)"
   ]
  },
  {
   "cell_type": "markdown",
   "id": "39aff379-c83c-42bc-86f0-2331298960c7",
   "metadata": {},
   "source": [
    "loops"
   ]
  },
  {
   "cell_type": "code",
   "execution_count": 41,
   "id": "1538a10a-14a9-4c09-bc56-fb39337ef09d",
   "metadata": {},
   "outputs": [
    {
     "name": "stdout",
     "output_type": "stream",
     "text": [
      "The sum is 46\n"
     ]
    },
    {
     "data": {
      "text/plain": [
       "46"
      ]
     },
     "execution_count": 41,
     "metadata": {},
     "output_type": "execute_result"
    }
   ],
   "source": [
    "# Program to find the sum of all numbers stored in a list\n",
    "#List of numbers\n",
    "numbers = [6, 5, 3, 8, 4, 2, 5, 4,9]\n",
    "#variable to store the sum \n",
    "sum = 0\n",
    "#iterate over the list \n",
    "for val in numbers: \n",
    "    sum=sum+val\n",
    "#Output: The sum is 48 \n",
    "print(\"The sum is\", sum) \n",
    "sum"
   ]
  },
  {
   "cell_type": "code",
   "execution_count": 42,
   "id": "1187622d-8ba6-4706-99a4-a688aacfd46d",
   "metadata": {},
   "outputs": [
    {
     "name": "stdout",
     "output_type": "stream",
     "text": [
      "0\n",
      "1\n",
      "5\n",
      "No items left.\n"
     ]
    }
   ],
   "source": [
    "digits=[0,1,5]\n",
    "for i in digits:\n",
    "    print(i)\n",
    "else:\n",
    "    print(\"No items left.\")"
   ]
  },
  {
   "cell_type": "code",
   "execution_count": 43,
   "id": "40dda7b3-2255-41b6-9524-5c727a111724",
   "metadata": {},
   "outputs": [
    {
     "name": "stdin",
     "output_type": "stream",
     "text": [
      "Enter n:  3\n"
     ]
    },
    {
     "name": "stdout",
     "output_type": "stream",
     "text": [
      "The sum is 6\n"
     ]
    }
   ],
   "source": [
    "#program to add natural numbers upto sum=1+2+3+.....+n\n",
    "n=int(input(\"Enter n: \"))\n",
    "sum=0\n",
    "i=1\n",
    "while i<=n:\n",
    "    sum=sum+i\n",
    "    i=i+1\n",
    "print(\"The sum is\",sum)"
   ]
  },
  {
   "cell_type": "markdown",
   "id": "765777e1-eadb-4625-90c8-8de99416b5d2",
   "metadata": {},
   "source": [
    "The range function"
   ]
  },
  {
   "cell_type": "code",
   "execution_count": 45,
   "id": "c6aea75e-b621-42e2-827b-3eada93bb3b9",
   "metadata": {},
   "outputs": [
    {
     "name": "stdout",
     "output_type": "stream",
     "text": [
      "range(0, 10)\n"
     ]
    }
   ],
   "source": [
    "print(range(10))"
   ]
  },
  {
   "cell_type": "code",
   "execution_count": 46,
   "id": "4d95acff-110c-4b12-913e-47e22f0823fa",
   "metadata": {},
   "outputs": [
    {
     "name": "stdout",
     "output_type": "stream",
     "text": [
      "[0, 1, 2, 3, 4, 5, 6, 7, 8, 9]\n"
     ]
    }
   ],
   "source": [
    "print(list(range(10)))"
   ]
  },
  {
   "cell_type": "code",
   "execution_count": 47,
   "id": "daee075d-af3f-4b45-9224-33347ddc08e4",
   "metadata": {},
   "outputs": [
    {
     "name": "stdout",
     "output_type": "stream",
     "text": [
      "[2, 3, 4, 5, 6, 7]\n"
     ]
    }
   ],
   "source": [
    "print(list(range(2,8)))"
   ]
  },
  {
   "cell_type": "code",
   "execution_count": 48,
   "id": "461d45e9-fff8-4f32-b2c3-b224ae13c799",
   "metadata": {},
   "outputs": [
    {
     "name": "stdout",
     "output_type": "stream",
     "text": [
      "[2, 7]\n"
     ]
    }
   ],
   "source": [
    "print(list(range(2,8,5)))"
   ]
  },
  {
   "cell_type": "code",
   "execution_count": 49,
   "id": "afe50966-2da4-4b1a-a4a2-e211b43e4227",
   "metadata": {},
   "outputs": [
    {
     "name": "stdout",
     "output_type": "stream",
     "text": [
      "I like pop\n",
      "I like rock\n",
      "I like jazz\n",
      "I like sapna\n"
     ]
    }
   ],
   "source": [
    "#program to iterate through a list  using indexing\n",
    "genre=['pop','rock','jazz','sapna']\n",
    "for i in range (len(genre)):\n",
    "    print(\"I like\",genre[i])"
   ]
  },
  {
   "cell_type": "markdown",
   "id": "55a05b16-c067-4009-8a22-3e4f756b5aa9",
   "metadata": {},
   "source": [
    "break and continue statement"
   ]
  },
  {
   "cell_type": "code",
   "execution_count": 51,
   "id": "4405ea57-bfb1-4757-a724-de4ffdb93e34",
   "metadata": {},
   "outputs": [
    {
     "name": "stdout",
     "output_type": "stream",
     "text": [
      "B\n",
      "H\n",
      "O\n",
      "O\n",
      "The end\n"
     ]
    }
   ],
   "source": [
    "#use of break statement  inside loop\n",
    "for val in \"BHOOMIKA\":\n",
    "    if val==\"M\":\n",
    "        break\n",
    "    print(val)\n",
    "print(\"The end\")"
   ]
  },
  {
   "cell_type": "code",
   "execution_count": 52,
   "id": "25e3ab57-2593-49e0-b9ce-1753b98a5f41",
   "metadata": {},
   "outputs": [
    {
     "name": "stdout",
     "output_type": "stream",
     "text": [
      "B\n",
      "H\n",
      "O\n",
      "O\n",
      "I\n",
      "K\n",
      "A\n",
      "The end\n"
     ]
    }
   ],
   "source": [
    "#use of continue statement  inside loop\n",
    "for val in \"BHOOMIKA\":\n",
    "    if val==\"M\":\n",
    "        continue\n",
    "    print(val)\n",
    "print(\"The end\")"
   ]
  },
  {
   "cell_type": "code",
   "execution_count": 57,
   "id": "f91c8739-0b2e-4aa1-b819-e120aad5f26a",
   "metadata": {},
   "outputs": [
    {
     "name": "stdin",
     "output_type": "stream",
     "text": [
      "what is your name?\n",
      " Bhoomika\n"
     ]
    },
    {
     "data": {
      "text/plain": [
       "str"
      ]
     },
     "execution_count": 57,
     "metadata": {},
     "output_type": "execute_result"
    }
   ],
   "source": [
    "#program to take input string from the user\n",
    "name=input(\"what is your name?\\n\")\n",
    "type(name)"
   ]
  },
  {
   "cell_type": "code",
   "execution_count": 65,
   "id": "8a905c82-7bd3-4820-9438-d3f752b494d5",
   "metadata": {},
   "outputs": [
    {
     "name": "stdin",
     "output_type": "stream",
     "text": [
      "what is your age? 20\n"
     ]
    },
    {
     "name": "stdout",
     "output_type": "stream",
     "text": [
      "your age is: 20\n"
     ]
    },
    {
     "data": {
      "text/plain": [
       "int"
      ]
     },
     "execution_count": 65,
     "metadata": {},
     "output_type": "execute_result"
    }
   ],
   "source": [
    "#program to read integers from user\n",
    "age=int(input(\"what is your age?\"))\n",
    "print(\"your age is:\",age)\n",
    "type(age)"
   ]
  },
  {
   "cell_type": "code",
   "execution_count": 61,
   "id": "a1cab77e-a15e-4d78-8533-52f579426fec",
   "metadata": {},
   "outputs": [
    {
     "name": "stdin",
     "output_type": "stream",
     "text": [
      "what is your name? Bhoomika\n"
     ]
    },
    {
     "name": "stdout",
     "output_type": "stream",
     "text": [
      "It was nice talking to you,Bhoomika!\n"
     ]
    },
    {
     "name": "stdin",
     "output_type": "stream",
     "text": [
      "what is your age  20\n"
     ]
    },
    {
     "name": "stdout",
     "output_type": "stream",
     "text": [
      "Hey your are already 20years old,Bhoomika!\n"
     ]
    }
   ],
   "source": [
    "name=input(\"what is your name?\")\n",
    "print(\"It was nice talking to you,\"  + name + \"!\")\n",
    "age=input(\"what is your age \")\n",
    "print(\"Hey your are already \"+ age +\"years old,\" + name + \"!\")\n"
   ]
  },
  {
   "cell_type": "markdown",
   "id": "7fe51d44-ddef-423b-8189-b9cadffc4de5",
   "metadata": {},
   "source": [
    "### "
   ]
  }
 ],
 "metadata": {
  "kernelspec": {
   "display_name": "Python [conda env:base] *",
   "language": "python",
   "name": "conda-base-py"
  },
  "language_info": {
   "codemirror_mode": {
    "name": "ipython",
    "version": 3
   },
   "file_extension": ".py",
   "mimetype": "text/x-python",
   "name": "python",
   "nbconvert_exporter": "python",
   "pygments_lexer": "ipython3",
   "version": "3.12.7"
  }
 },
 "nbformat": 4,
 "nbformat_minor": 5
}
